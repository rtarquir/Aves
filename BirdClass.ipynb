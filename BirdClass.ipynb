{
 "cells": [
  {
   "cell_type": "markdown",
   "metadata": {},
   "source": [
    "# Clasificador de imágenes"
   ]
  },
  {
   "cell_type": "code",
   "execution_count": 1,
   "metadata": {},
   "outputs": [],
   "source": [
    "import tensorflow as tf"
   ]
  },
  {
   "cell_type": "code",
   "execution_count": 2,
   "metadata": {},
   "outputs": [
    {
     "name": "stderr",
     "output_type": "stream",
     "text": [
      "Using TensorFlow backend.\n"
     ]
    }
   ],
   "source": [
    "from tensorflow.keras.models import Sequential, Model\n",
    "from tensorflow.keras.layers import Conv2D, MaxPool2D, Dense, Flatten, Dropout, BatchNormalization, Input\n",
    "from tensorflow.keras.optimizers import Adam\n",
    "from tensorflow.keras.callbacks import TensorBoard, ModelCheckpoint\n",
    "from keras.utils import np_utils\n",
    "import os\n",
    "import numpy as np\n",
    "from tensorflow.keras.preprocessing import image\n",
    "from tensorflow.keras.applications.imagenet_utils import preprocess_input, decode_predictions\n",
    "from tensorflow.keras.applications.vgg16 import VGG16\n",
    "from tensorflow.keras.preprocessing.image import ImageDataGenerator \n",
    "from sklearn.utils import shuffle\n",
    "from sklearn.model_selection import train_test_split\n",
    "import cv2\n",
    "import matplotlib.pyplot as plt\n",
    "%matplotlib inline"
   ]
  },
  {
   "cell_type": "markdown",
   "metadata": {},
   "source": [
    "# Configuración de parámetros"
   ]
  },
  {
   "cell_type": "code",
   "execution_count": 3,
   "metadata": {},
   "outputs": [],
   "source": [
    "width_shape = 224\n",
    "height_shape = 224\n",
    "num_classes = 10\n",
    "epochs = 50\n",
    "batch_size = 32 "
   ]
  },
  {
   "cell_type": "markdown",
   "metadata": {},
   "source": [
    "# Path de dataset"
   ]
  },
  {
   "cell_type": "code",
   "execution_count": 13,
   "metadata": {},
   "outputs": [],
   "source": [
    "train_data_dir = 'E:/Descargas/Bird_Classification--master/Bird_Classification--master/dataset/train'  \n",
    "validation_data_dir = 'E:/Descargas/Bird_Classification--master/Bird_Classification--master/dataset/valid'"
   ]
  },
  {
   "cell_type": "markdown",
   "metadata": {},
   "source": [
    "# Generador de imágenes (entrenamiento y validación)"
   ]
  },
  {
   "cell_type": "code",
   "execution_count": 14,
   "metadata": {},
   "outputs": [
    {
     "name": "stdout",
     "output_type": "stream",
     "text": [
      "Found 1490 images belonging to 10 classes.\n",
      "Found 50 images belonging to 10 classes.\n"
     ]
    }
   ],
   "source": [
    "train_datagen = ImageDataGenerator(  \n",
    "    rotation_range=20,\n",
    "    zoom_range=0.2,\n",
    "    width_shift_range=0.1,\n",
    "    height_shift_range=0.1,\n",
    "    horizontal_flip=True,\n",
    "    vertical_flip=False,\n",
    "    preprocessing_function=preprocess_input)\n",
    "\n",
    "valid_datagen = ImageDataGenerator(    \n",
    "    rotation_range=20,\n",
    "    zoom_range=0.2,\n",
    "    width_shift_range=0.1,\n",
    "    height_shift_range=0.1,\n",
    "    horizontal_flip=True,\n",
    "    vertical_flip=False,\n",
    "    preprocessing_function=preprocess_input)\n",
    "\n",
    "train_generator = train_datagen.flow_from_directory(  \n",
    "    train_data_dir,\n",
    "    target_size=(width_shape, height_shape),\n",
    "    batch_size=batch_size,\n",
    "    #save_to_dir='',\n",
    "    class_mode='categorical')\n",
    "\n",
    "validation_generator = valid_datagen.flow_from_directory(  \n",
    "    validation_data_dir,\n",
    "    target_size=(width_shape, height_shape),\n",
    "    batch_size=batch_size,\n",
    "    #save_to_dir='',\n",
    "    class_mode='categorical')\n",
    "\n",
    "\n"
   ]
  },
  {
   "cell_type": "markdown",
   "metadata": {},
   "source": [
    "# Creación y entrenamiento de modelo CNN"
   ]
  },
  {
   "cell_type": "code",
   "execution_count": null,
   "metadata": {
    "scrolled": true
   },
   "outputs": [
    {
     "name": "stdout",
     "output_type": "stream",
     "text": [
      "Model: \"sequential\"\n",
      "_________________________________________________________________\n",
      "Layer (type)                 Output Shape              Param #   \n",
      "=================================================================\n",
      "conv2d (Conv2D)              (None, 222, 222, 32)      896       \n",
      "_________________________________________________________________\n",
      "conv2d_1 (Conv2D)            (None, 220, 220, 32)      9248      \n",
      "_________________________________________________________________\n",
      "max_pooling2d (MaxPooling2D) (None, 110, 110, 32)      0         \n",
      "_________________________________________________________________\n",
      "conv2d_2 (Conv2D)            (None, 108, 108, 64)      18496     \n",
      "_________________________________________________________________\n",
      "conv2d_3 (Conv2D)            (None, 106, 106, 64)      36928     \n",
      "_________________________________________________________________\n",
      "conv2d_4 (Conv2D)            (None, 104, 104, 64)      36928     \n",
      "_________________________________________________________________\n",
      "max_pooling2d_1 (MaxPooling2 (None, 52, 52, 64)        0         \n",
      "_________________________________________________________________\n",
      "flatten (Flatten)            (None, 173056)            0         \n",
      "_________________________________________________________________\n",
      "dense (Dense)                (None, 64)                11075648  \n",
      "_________________________________________________________________\n",
      "dense_1 (Dense)              (None, 32)                2080      \n",
      "_________________________________________________________________\n",
      "output (Dense)               (None, 10)                330       \n",
      "=================================================================\n",
      "Total params: 11,180,554\n",
      "Trainable params: 11,180,554\n",
      "Non-trainable params: 0\n",
      "_________________________________________________________________\n",
      "WARNING:tensorflow:From C:\\Users\\Usuario\\AppData\\Local\\Temp\\ipykernel_14484\\913544305.py:31: Model.fit_generator (from tensorflow.python.keras.engine.training) is deprecated and will be removed in a future version.\n",
      "Instructions for updating:\n",
      "Please use Model.fit, which supports generators.\n",
      "WARNING:tensorflow:sample_weight modes were coerced from\n",
      "  ...\n",
      "    to  \n",
      "  ['...']\n",
      "WARNING:tensorflow:sample_weight modes were coerced from\n",
      "  ...\n",
      "    to  \n",
      "  ['...']\n",
      "Train for 46 steps, validate for 1 steps\n",
      "Epoch 1/50\n",
      "46/46 [==============================] - 82s 2s/step - loss: 17.6277 - accuracy: 0.1235 - val_loss: 12.3388 - val_accuracy: 0.1875\n",
      "Epoch 2/50\n",
      "46/46 [==============================] - 83s 2s/step - loss: 10.3036 - accuracy: 0.1549 - val_loss: 10.8156 - val_accuracy: 0.1250\n",
      "Epoch 3/50\n",
      " 3/46 [>.............................] - ETA: 1:22 - loss: 9.3045 - accuracy: 0.1146"
     ]
    }
   ],
   "source": [
    "#Creación de modelo \n",
    "nb_train_samples = 1490\n",
    "nb_validation_samples = 50\n",
    "\n",
    "model = Sequential()\n",
    "\n",
    "inputShape = (height_shape, width_shape, 3)\n",
    "model.add(Conv2D(32,(3,3), input_shape=inputShape))\n",
    "model.add(Conv2D(32,(3,3)))\n",
    "model.add(MaxPool2D())\n",
    "          \n",
    "model.add(Conv2D(64,(3,3)))\n",
    "model.add(Conv2D(64,(3,3)))\n",
    "model.add(Conv2D(64,(3,3)))\n",
    "model.add(MaxPool2D())\n",
    "\n",
    "model.add(Flatten())\n",
    "model.add(Dense(64,activation='relu'))\n",
    "model.add(Dense(32,activation='relu'))\n",
    "model.add(Dense(num_classes,activation='softmax', name='output'))\n",
    "\n",
    "model.summary()\n",
    "\n",
    "model.compile(loss='categorical_crossentropy',optimizer='adadelta',metrics=['accuracy'])\n",
    "\n",
    "model_history = model.fit_generator(  \n",
    "    train_generator,\n",
    "    epochs=epochs,\n",
    "    validation_data=validation_generator,\n",
    "    steps_per_epoch=nb_train_samples//batch_size,\n",
    "    validation_steps=nb_validation_samples//batch_size)"
   ]
  },
  {
   "cell_type": "markdown",
   "metadata": {},
   "source": [
    "# Entrenamiento de modelo VGG16"
   ]
  },
  {
   "cell_type": "code",
   "execution_count": null,
   "metadata": {},
   "outputs": [],
   "source": [
    "nb_train_samples = 1490\n",
    "nb_validation_samples = 50\n",
    "\n",
    "image_input = Input(shape=(width_shape, height_shape, 3))\n",
    "\n",
    "model = VGG16(input_tensor=image_input, include_top=True,weights='imagenet')\n",
    "\n",
    "last_layer = model.get_layer('fc2').output\n",
    "out = Dense(num_classes, activation='softmax', name='output')(last_layer)\n",
    "custom_vgg_model = Model(image_input, out)\n",
    "\n",
    "for layer in custom_vgg_model.layers[:-1]:\n",
    "\tlayer.trainable = False\n",
    "    \n",
    "\n",
    "custom_vgg_model.compile(loss='categorical_crossentropy',optimizer='adadelta',metrics=['accuracy'])\n",
    "\n",
    "custom_vgg_model.summary()\n",
    "\n",
    "model_history = custom_vgg_model.fit_generator(  \n",
    "    train_generator,\n",
    "    epochs=epochs,\n",
    "    validation_data=validation_generator,\n",
    "    steps_per_epoch=nb_train_samples//batch_size,\n",
    "    validation_steps=nb_validation_samples//batch_size)"
   ]
  },
  {
   "cell_type": "markdown",
   "metadata": {},
   "source": [
    "# Grabar modelo en disco"
   ]
  },
  {
   "cell_type": "code",
   "execution_count": null,
   "metadata": {},
   "outputs": [],
   "source": [
    "custom_vgg_model.save(\"model_VGG16.h5\")"
   ]
  },
  {
   "cell_type": "markdown",
   "metadata": {},
   "source": [
    "# Gráficas de entrenamiento y validación (accuracy - loss)"
   ]
  },
  {
   "cell_type": "code",
   "execution_count": null,
   "metadata": {},
   "outputs": [],
   "source": [
    "\n",
    "def plotTraining(hist, epochs, typeData):\n",
    "    \n",
    "    if typeData==\"loss\":\n",
    "        plt.figure(1,figsize=(10,5))\n",
    "        yc=hist.history['loss']\n",
    "        xc=range(epochs)\n",
    "        plt.ylabel('Loss', fontsize=24)\n",
    "        plt.plot(xc,yc,'-r',label='Loss Training')\n",
    "    if typeData==\"accuracy\":\n",
    "        plt.figure(2,figsize=(10,5))\n",
    "        yc=hist.history['accuracy']\n",
    "        for i in range(0, len(yc)):\n",
    "            yc[i]=100*yc[i]\n",
    "        xc=range(epochs)\n",
    "        plt.ylabel('Accuracy (%)', fontsize=24)\n",
    "        plt.plot(xc,yc,'-r',label='Accuracy Training')\n",
    "    if typeData==\"val_loss\":\n",
    "        plt.figure(1,figsize=(10,5))\n",
    "        yc=hist.history['val_loss']\n",
    "        xc=range(epochs)\n",
    "        plt.ylabel('Loss', fontsize=24)\n",
    "        plt.plot(xc,yc,'--b',label='Loss Validate')\n",
    "    if typeData==\"val_accuracy\":\n",
    "        plt.figure(2,figsize=(10,5))\n",
    "        yc=hist.history['val_accuracy']\n",
    "        for i in range(0, len(yc)):\n",
    "            yc[i]=100*yc[i]\n",
    "        xc=range(epochs)\n",
    "        plt.ylabel('Accuracy (%)', fontsize=24)\n",
    "        plt.plot(xc,yc,'--b',label='Training Validate')\n",
    "        \n",
    "\n",
    "    plt.rc('xtick',labelsize=24)\n",
    "    plt.rc('ytick',labelsize=24)\n",
    "    plt.rc('legend', fontsize=18) \n",
    "    plt.legend()\n",
    "    plt.xlabel('Number of Epochs',fontsize=24)\n",
    "    plt.grid(True)"
   ]
  },
  {
   "cell_type": "code",
   "execution_count": null,
   "metadata": {},
   "outputs": [],
   "source": [
    "plotTraining(model_history,epochs,\"loss\")\n",
    "plotTraining(model_history,epochs,\"accuracy\")\n",
    "plotTraining(model_history,epochs,\"val_loss\")\n",
    "plotTraining(model_history,epochs,\"val_accuracy\")"
   ]
  },
  {
   "cell_type": "markdown",
   "metadata": {},
   "source": [
    "# Predicción usando el modelo entrenado"
   ]
  },
  {
   "cell_type": "code",
   "execution_count": null,
   "metadata": {},
   "outputs": [],
   "source": [
    "from keras.applications.imagenet_utils import preprocess_input, decode_predictions\n",
    "from keras.models import load_model\n",
    "\n",
    "names = ['AFRICAN FIREFINCH','ALBATROSS','ALEXANDRINE PARAKEET','AMERICAN AVOCET','AMERICAN BITTERN',\n",
    "         'AMERICAN COOT','AMERICAN GOLDFINCH','AMERICAN KESTREL','AMERICAN PIPIT','AMERICAN REDSTART']\n",
    "\n",
    "modelt = load_model(\"model_VGG16.h5\")\n",
    "#modelt = custom_vgg_model\n",
    "\n",
    "imaget_path = \"D:/Video Tutoriales/ImageClassification/dataset/test/AMERICAN BITTERN/5.jpg\"\n",
    "imaget=cv2.resize(cv2.imread(imaget_path), (width_shape, height_shape), interpolation = cv2.INTER_AREA)\n",
    "xt = np.asarray(imaget)\n",
    "xt=preprocess_input(xt)\n",
    "xt = np.expand_dims(xt,axis=0)\n",
    "preds = modelt.predict(xt)\n",
    "\n",
    "print(names[np.argmax(preds)])\n",
    "plt.imshow(cv2.cvtColor(np.asarray(imaget),cv2.COLOR_BGR2RGB))\n",
    "plt.axis('off')\n",
    "plt.show()"
   ]
  },
  {
   "cell_type": "markdown",
   "metadata": {},
   "source": [
    "# Matriz de confusión y métricas de desempeño"
   ]
  },
  {
   "cell_type": "code",
   "execution_count": null,
   "metadata": {},
   "outputs": [],
   "source": [
    "from sklearn.metrics import confusion_matrix, f1_score, roc_curve, precision_score, recall_score, accuracy_score, roc_auc_score\n",
    "from sklearn import metrics\n",
    "from mlxtend.plotting import plot_confusion_matrix\n",
    "from keras.models import load_model\n",
    "import numpy as np\n",
    "import matplotlib.pyplot as plt\n",
    "%matplotlib inline\n",
    "\n",
    "\n",
    "names = ['AFRICAN FIREFINCH','ALBATROSS','ALEXANDRINE PARAKEET','AMERICAN AVOCET','AMERICAN BITTERN',\n",
    "         'AMERICAN COOT','AMERICAN GOLDFINCH','AMERICAN KESTREL','AMERICAN PIPIT','AMERICAN REDSTART']\n",
    "\n",
    "\n",
    "test_data_dir = 'D:/Video Tutoriales/ImageClassification/dataset/test'  \n",
    "\n",
    "test_datagen = ImageDataGenerator()\n",
    "\n",
    "test_generator = test_datagen.flow_from_directory(\n",
    "    test_data_dir,\n",
    "    target_size=(width_shape, height_shape), \n",
    "    batch_size = batch_size,\n",
    "    class_mode='categorical', \n",
    "    shuffle=False)\n",
    "\n",
    "custom_Model= load_model(\"model_VGG16.h5\")\n",
    "\n",
    "predictions = custom_Model.predict_generator(generator=test_generator)\n",
    "\n",
    "y_pred = np.argmax(predictions, axis=1)\n",
    "y_real = test_generator.classes\n",
    "\n",
    "\n",
    "matc=confusion_matrix(y_real, y_pred)\n",
    "\n",
    "plot_confusion_matrix(conf_mat=matc, figsize=(9,9), class_names = names, show_normed=False)\n",
    "plt.tight_layout()\n",
    "\n",
    "print(metrics.classification_report(y_real,y_pred, digits = 4))"
   ]
  },
  {
   "cell_type": "code",
   "execution_count": null,
   "metadata": {},
   "outputs": [],
   "source": [
    "print(y_real)"
   ]
  },
  {
   "cell_type": "code",
   "execution_count": null,
   "metadata": {},
   "outputs": [],
   "source": [
    "print(y_pred)"
   ]
  },
  {
   "cell_type": "code",
   "execution_count": null,
   "metadata": {},
   "outputs": [],
   "source": []
  }
 ],
 "metadata": {
  "kernelspec": {
   "display_name": "Python 3 (ipykernel)",
   "language": "python",
   "name": "python3"
  },
  "language_info": {
   "codemirror_mode": {
    "name": "ipython",
    "version": 3
   },
   "file_extension": ".py",
   "mimetype": "text/x-python",
   "name": "python",
   "nbconvert_exporter": "python",
   "pygments_lexer": "ipython3",
   "version": "3.7.13"
  }
 },
 "nbformat": 4,
 "nbformat_minor": 4
}
